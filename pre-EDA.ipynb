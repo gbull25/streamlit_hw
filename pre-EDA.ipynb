{
 "cells": [
  {
   "cell_type": "code",
   "execution_count": 47,
   "metadata": {},
   "outputs": [],
   "source": [
    "import pandas as pd\n",
    "import numpy as np\n",
    "import csv\n",
    "from pathlib import Path"
   ]
  },
  {
   "cell_type": "markdown",
   "metadata": {},
   "source": [
    "### Прочитаем все доступные csv с информацией о клиентах банка и сохраним их в датафреймы"
   ]
  },
  {
   "cell_type": "code",
   "execution_count": 48,
   "metadata": {},
   "outputs": [],
   "source": [
    "PATH = Path(\"datasets\")\n",
    "EXT = \"*.csv\"\n",
    "\n",
    "# dictionary holding all the files DataFrames with the format {\"filename\": file_DataFrame}\n",
    "files_dfs = {}\n",
    "\n",
    "# recursive search for csv files in PATH folder and subfolders \n",
    "for csv_file in PATH.rglob(EXT):\n",
    "    filename = csv_file.name     # get the filename \n",
    "    df = pd.read_csv(csv_file)   # read the csv file as a DataFrame\n",
    "    files_dfs[filename] = df     # add the DataFrame to the dictionary"
   ]
  },
  {
   "cell_type": "code",
   "execution_count": 49,
   "metadata": {},
   "outputs": [
    {
     "data": {
      "text/plain": [
       "'D_clients.csv'"
      ]
     },
     "metadata": {},
     "output_type": "display_data"
    },
    {
     "data": {
      "text/plain": [
       "'D_close_loan.csv'"
      ]
     },
     "metadata": {},
     "output_type": "display_data"
    },
    {
     "data": {
      "text/plain": [
       "'D_job.csv'"
      ]
     },
     "metadata": {},
     "output_type": "display_data"
    },
    {
     "data": {
      "text/plain": [
       "'D_last_credit.csv'"
      ]
     },
     "metadata": {},
     "output_type": "display_data"
    },
    {
     "data": {
      "text/plain": [
       "'D_loan.csv'"
      ]
     },
     "metadata": {},
     "output_type": "display_data"
    },
    {
     "data": {
      "text/plain": [
       "'D_pens.csv'"
      ]
     },
     "metadata": {},
     "output_type": "display_data"
    },
    {
     "data": {
      "text/plain": [
       "'D_salary.csv'"
      ]
     },
     "metadata": {},
     "output_type": "display_data"
    },
    {
     "data": {
      "text/plain": [
       "'D_target.csv'"
      ]
     },
     "metadata": {},
     "output_type": "display_data"
    },
    {
     "data": {
      "text/plain": [
       "'D_work.csv'"
      ]
     },
     "metadata": {},
     "output_type": "display_data"
    }
   ],
   "source": [
    "for dataset in files_dfs:\n",
    "    display(dataset)"
   ]
  },
  {
   "cell_type": "code",
   "execution_count": 50,
   "metadata": {},
   "outputs": [],
   "source": [
    "column_names = {}\n",
    "res_list = []\n",
    "\n",
    "for data in files_dfs:\n",
    "    column_names.update({data:files_dfs[data].columns.tolist()})\n",
    "\n",
    "for col in column_names.values():\n",
    "    for col_name in col:\n",
    "        res_list.append(col_name)\n"
   ]
  },
  {
   "cell_type": "code",
   "execution_count": 51,
   "metadata": {},
   "outputs": [],
   "source": [
    "df_clients = pd.read_csv('datasets/D_clients.csv')\n",
    "df_close_loan = pd.read_csv('datasets/D_close_loan.csv')\n",
    "df_job = pd.read_csv('datasets/D_job.csv')\n",
    "df_last_credit = pd.read_csv('datasets/D_last_credit.csv')\n",
    "df_loan = pd.read_csv('datasets/D_loan.csv')\n",
    "df_pens = pd.read_csv('datasets/D_pens.csv')\n",
    "df_salary = pd.read_csv('datasets/D_salary.csv')\n",
    "df_target = pd.read_csv('datasets/D_target.csv')\n",
    "df_work = pd.read_csv('datasets/D_work.csv')"
   ]
  },
  {
   "cell_type": "markdown",
   "metadata": {},
   "source": [
    "### Работаем с информацией о кредитах\n",
    "\n",
    "Собираем нужную информацию в один датафрейм из двух с помощью группировок "
   ]
  },
  {
   "cell_type": "code",
   "execution_count": 52,
   "metadata": {},
   "outputs": [
    {
     "data": {
      "text/html": [
       "<div>\n",
       "<style scoped>\n",
       "    .dataframe tbody tr th:only-of-type {\n",
       "        vertical-align: middle;\n",
       "    }\n",
       "\n",
       "    .dataframe tbody tr th {\n",
       "        vertical-align: top;\n",
       "    }\n",
       "\n",
       "    .dataframe thead th {\n",
       "        text-align: right;\n",
       "    }\n",
       "</style>\n",
       "<table border=\"1\" class=\"dataframe\">\n",
       "  <thead>\n",
       "    <tr style=\"text-align: right;\">\n",
       "      <th></th>\n",
       "      <th>ID_LOAN</th>\n",
       "      <th>ID_CLIENT</th>\n",
       "      <th>CLOSED_FL</th>\n",
       "    </tr>\n",
       "  </thead>\n",
       "  <tbody>\n",
       "    <tr>\n",
       "      <th>0</th>\n",
       "      <td>1753790658</td>\n",
       "      <td>106804370</td>\n",
       "      <td>1</td>\n",
       "    </tr>\n",
       "    <tr>\n",
       "      <th>1</th>\n",
       "      <td>1753790659</td>\n",
       "      <td>106804371</td>\n",
       "      <td>1</td>\n",
       "    </tr>\n",
       "    <tr>\n",
       "      <th>2</th>\n",
       "      <td>1753790660</td>\n",
       "      <td>106804372</td>\n",
       "      <td>1</td>\n",
       "    </tr>\n",
       "    <tr>\n",
       "      <th>3</th>\n",
       "      <td>1753790661</td>\n",
       "      <td>106804372</td>\n",
       "      <td>0</td>\n",
       "    </tr>\n",
       "    <tr>\n",
       "      <th>4</th>\n",
       "      <td>1753790662</td>\n",
       "      <td>106804373</td>\n",
       "      <td>1</td>\n",
       "    </tr>\n",
       "    <tr>\n",
       "      <th>...</th>\n",
       "      <td>...</td>\n",
       "      <td>...</td>\n",
       "      <td>...</td>\n",
       "    </tr>\n",
       "    <tr>\n",
       "      <th>21121</th>\n",
       "      <td>1753811779</td>\n",
       "      <td>106819588</td>\n",
       "      <td>1</td>\n",
       "    </tr>\n",
       "    <tr>\n",
       "      <th>21122</th>\n",
       "      <td>1753811780</td>\n",
       "      <td>106819589</td>\n",
       "      <td>0</td>\n",
       "    </tr>\n",
       "    <tr>\n",
       "      <th>21123</th>\n",
       "      <td>1753811781</td>\n",
       "      <td>106819590</td>\n",
       "      <td>0</td>\n",
       "    </tr>\n",
       "    <tr>\n",
       "      <th>21124</th>\n",
       "      <td>1753811782</td>\n",
       "      <td>106819591</td>\n",
       "      <td>0</td>\n",
       "    </tr>\n",
       "    <tr>\n",
       "      <th>21125</th>\n",
       "      <td>1753811783</td>\n",
       "      <td>106819592</td>\n",
       "      <td>0</td>\n",
       "    </tr>\n",
       "  </tbody>\n",
       "</table>\n",
       "<p>21126 rows × 3 columns</p>\n",
       "</div>"
      ],
      "text/plain": [
       "          ID_LOAN  ID_CLIENT  CLOSED_FL\n",
       "0      1753790658  106804370          1\n",
       "1      1753790659  106804371          1\n",
       "2      1753790660  106804372          1\n",
       "3      1753790661  106804372          0\n",
       "4      1753790662  106804373          1\n",
       "...           ...        ...        ...\n",
       "21121  1753811779  106819588          1\n",
       "21122  1753811780  106819589          0\n",
       "21123  1753811781  106819590          0\n",
       "21124  1753811782  106819591          0\n",
       "21125  1753811783  106819592          0\n",
       "\n",
       "[21126 rows x 3 columns]"
      ]
     },
     "execution_count": 52,
     "metadata": {},
     "output_type": "execute_result"
    }
   ],
   "source": [
    "df_all_loans = df_loan.merge(df_close_loan, 'outer', 'ID_LOAN')\n",
    "df_all_loans"
   ]
  },
  {
   "cell_type": "code",
   "execution_count": 53,
   "metadata": {},
   "outputs": [
    {
     "data": {
      "text/plain": [
       "15223"
      ]
     },
     "execution_count": 53,
     "metadata": {},
     "output_type": "execute_result"
    }
   ],
   "source": [
    "len(df_all_loans['ID_CLIENT'].unique())"
   ]
  },
  {
   "cell_type": "code",
   "execution_count": 54,
   "metadata": {},
   "outputs": [
    {
     "data": {
      "text/html": [
       "<div>\n",
       "<style scoped>\n",
       "    .dataframe tbody tr th:only-of-type {\n",
       "        vertical-align: middle;\n",
       "    }\n",
       "\n",
       "    .dataframe tbody tr th {\n",
       "        vertical-align: top;\n",
       "    }\n",
       "\n",
       "    .dataframe thead th {\n",
       "        text-align: right;\n",
       "    }\n",
       "</style>\n",
       "<table border=\"1\" class=\"dataframe\">\n",
       "  <thead>\n",
       "    <tr style=\"text-align: right;\">\n",
       "      <th></th>\n",
       "      <th>ID_LOAN</th>\n",
       "      <th>ID_CLIENT</th>\n",
       "      <th>CLOSED_FL</th>\n",
       "      <th>LOAN_NUM_TOTAL</th>\n",
       "      <th>LOAN_NUM_CLOSED</th>\n",
       "    </tr>\n",
       "  </thead>\n",
       "  <tbody>\n",
       "    <tr>\n",
       "      <th>0</th>\n",
       "      <td>1753790658</td>\n",
       "      <td>106804370</td>\n",
       "      <td>1</td>\n",
       "      <td>1</td>\n",
       "      <td>1</td>\n",
       "    </tr>\n",
       "    <tr>\n",
       "      <th>1</th>\n",
       "      <td>1753790659</td>\n",
       "      <td>106804371</td>\n",
       "      <td>1</td>\n",
       "      <td>1</td>\n",
       "      <td>1</td>\n",
       "    </tr>\n",
       "    <tr>\n",
       "      <th>2</th>\n",
       "      <td>1753790660</td>\n",
       "      <td>106804372</td>\n",
       "      <td>1</td>\n",
       "      <td>2</td>\n",
       "      <td>1</td>\n",
       "    </tr>\n",
       "    <tr>\n",
       "      <th>3</th>\n",
       "      <td>1753790661</td>\n",
       "      <td>106804372</td>\n",
       "      <td>0</td>\n",
       "      <td>2</td>\n",
       "      <td>1</td>\n",
       "    </tr>\n",
       "    <tr>\n",
       "      <th>4</th>\n",
       "      <td>1753790662</td>\n",
       "      <td>106804373</td>\n",
       "      <td>1</td>\n",
       "      <td>1</td>\n",
       "      <td>1</td>\n",
       "    </tr>\n",
       "    <tr>\n",
       "      <th>...</th>\n",
       "      <td>...</td>\n",
       "      <td>...</td>\n",
       "      <td>...</td>\n",
       "      <td>...</td>\n",
       "      <td>...</td>\n",
       "    </tr>\n",
       "    <tr>\n",
       "      <th>21121</th>\n",
       "      <td>1753811779</td>\n",
       "      <td>106819588</td>\n",
       "      <td>1</td>\n",
       "      <td>3</td>\n",
       "      <td>2</td>\n",
       "    </tr>\n",
       "    <tr>\n",
       "      <th>21122</th>\n",
       "      <td>1753811780</td>\n",
       "      <td>106819589</td>\n",
       "      <td>0</td>\n",
       "      <td>1</td>\n",
       "      <td>0</td>\n",
       "    </tr>\n",
       "    <tr>\n",
       "      <th>21123</th>\n",
       "      <td>1753811781</td>\n",
       "      <td>106819590</td>\n",
       "      <td>0</td>\n",
       "      <td>1</td>\n",
       "      <td>0</td>\n",
       "    </tr>\n",
       "    <tr>\n",
       "      <th>21124</th>\n",
       "      <td>1753811782</td>\n",
       "      <td>106819591</td>\n",
       "      <td>0</td>\n",
       "      <td>1</td>\n",
       "      <td>0</td>\n",
       "    </tr>\n",
       "    <tr>\n",
       "      <th>21125</th>\n",
       "      <td>1753811783</td>\n",
       "      <td>106819592</td>\n",
       "      <td>0</td>\n",
       "      <td>1</td>\n",
       "      <td>0</td>\n",
       "    </tr>\n",
       "  </tbody>\n",
       "</table>\n",
       "<p>21126 rows × 5 columns</p>\n",
       "</div>"
      ],
      "text/plain": [
       "          ID_LOAN  ID_CLIENT  CLOSED_FL  LOAN_NUM_TOTAL  LOAN_NUM_CLOSED\n",
       "0      1753790658  106804370          1               1                1\n",
       "1      1753790659  106804371          1               1                1\n",
       "2      1753790660  106804372          1               2                1\n",
       "3      1753790661  106804372          0               2                1\n",
       "4      1753790662  106804373          1               1                1\n",
       "...           ...        ...        ...             ...              ...\n",
       "21121  1753811779  106819588          1               3                2\n",
       "21122  1753811780  106819589          0               1                0\n",
       "21123  1753811781  106819590          0               1                0\n",
       "21124  1753811782  106819591          0               1                0\n",
       "21125  1753811783  106819592          0               1                0\n",
       "\n",
       "[21126 rows x 5 columns]"
      ]
     },
     "execution_count": 54,
     "metadata": {},
     "output_type": "execute_result"
    }
   ],
   "source": [
    "counts = df_all_loans['ID_CLIENT'].value_counts() \n",
    "df_all_loans['LOAN_NUM_TOTAL'] = df_all_loans.groupby(['ID_CLIENT'])['ID_LOAN'].transform('count')\n",
    "df_all_loans['LOAN_NUM_CLOSED'] =  df_all_loans.groupby(df_all_loans['ID_CLIENT'])['CLOSED_FL'].transform('sum')\n",
    "df_all_loans"
   ]
  },
  {
   "cell_type": "code",
   "execution_count": 55,
   "metadata": {},
   "outputs": [
    {
     "data": {
      "text/plain": [
       "array([ 1,  2,  3,  4,  5,  6, 11,  7,  8], dtype=int64)"
      ]
     },
     "execution_count": 55,
     "metadata": {},
     "output_type": "execute_result"
    }
   ],
   "source": [
    "df_all_loans['LOAN_NUM_TOTAL'].unique()"
   ]
  },
  {
   "cell_type": "code",
   "execution_count": 56,
   "metadata": {},
   "outputs": [
    {
     "data": {
      "text/plain": [
       "array([ 1,  2,  0,  3,  4,  5,  6, 11,  7,  8], dtype=int64)"
      ]
     },
     "execution_count": 56,
     "metadata": {},
     "output_type": "execute_result"
    }
   ],
   "source": [
    "df_all_loans['LOAN_NUM_CLOSED'].unique()"
   ]
  },
  {
   "cell_type": "code",
   "execution_count": 57,
   "metadata": {},
   "outputs": [
    {
     "data": {
      "text/plain": [
       "ID_CLIENT\n",
       "106804370    1\n",
       "106804371    1\n",
       "106804372    1\n",
       "106804373    1\n",
       "106804374    1\n",
       "            ..\n",
       "106819588    2\n",
       "106819589    0\n",
       "106819590    0\n",
       "106819591    0\n",
       "106819592    0\n",
       "Name: CLOSED_FL, Length: 15223, dtype: int64"
      ]
     },
     "execution_count": 57,
     "metadata": {},
     "output_type": "execute_result"
    }
   ],
   "source": [
    "df_all_loans.groupby(df_all_loans['ID_CLIENT'])['CLOSED_FL'].sum()"
   ]
  },
  {
   "cell_type": "markdown",
   "metadata": {},
   "source": [
    "### Собираем нужные столбцы в целевой датафрейм"
   ]
  },
  {
   "cell_type": "code",
   "execution_count": 58,
   "metadata": {},
   "outputs": [],
   "source": [
    "df_clients = df_clients.rename(columns={'ID':'ID_CLIENT'})\n",
    "df = df_clients.merge(df_target, 'outer', 'ID_CLIENT')\n",
    "df = df.merge(df_job, 'outer', 'ID_CLIENT')\n",
    "df = df.merge(df_last_credit, 'outer', 'ID_CLIENT')\n",
    "df = df.merge(df_all_loans[['LOAN_NUM_TOTAL', 'LOAN_NUM_CLOSED', 'ID_CLIENT']], 'outer', 'ID_CLIENT')\n",
    "df = df.merge(df_salary, 'outer', 'ID_CLIENT')"
   ]
  },
  {
   "cell_type": "markdown",
   "metadata": {},
   "source": [
    "Попросмотрим на пропуски в данных:"
   ]
  },
  {
   "cell_type": "code",
   "execution_count": 59,
   "metadata": {},
   "outputs": [
    {
     "name": "stdout",
     "output_type": "stream",
     "text": [
      "<class 'pandas.core.frame.DataFrame'>\n",
      "RangeIndex: 22312 entries, 0 to 22311\n",
      "Data columns (total 27 columns):\n",
      " #   Column                   Non-Null Count  Dtype  \n",
      "---  ------                   --------------  -----  \n",
      " 0   ID_CLIENT                22312 non-null  int64  \n",
      " 1   AGE                      22312 non-null  int64  \n",
      " 2   GENDER                   22312 non-null  int64  \n",
      " 3   EDUCATION                22312 non-null  object \n",
      " 4   MARITAL_STATUS           22312 non-null  object \n",
      " 5   CHILD_TOTAL              22312 non-null  int64  \n",
      " 6   DEPENDANTS               22312 non-null  int64  \n",
      " 7   SOCSTATUS_WORK_FL        22312 non-null  int64  \n",
      " 8   SOCSTATUS_PENS_FL        22312 non-null  int64  \n",
      " 9   REG_ADDRESS_PROVINCE     22312 non-null  object \n",
      " 10  FACT_ADDRESS_PROVINCE    22312 non-null  object \n",
      " 11  POSTAL_ADDRESS_PROVINCE  22312 non-null  object \n",
      " 12  FL_PRESENCE_FL           22312 non-null  int64  \n",
      " 13  OWN_AUTO                 22312 non-null  int64  \n",
      " 14  AGREEMENT_RK             21535 non-null  float64\n",
      " 15  TARGET                   21535 non-null  float64\n",
      " 16  GEN_INDUSTRY             19731 non-null  object \n",
      " 17  GEN_TITLE                19731 non-null  object \n",
      " 18  JOB_DIR                  19731 non-null  object \n",
      " 19  WORK_TIME                19727 non-null  float64\n",
      " 20  CREDIT                   21535 non-null  float64\n",
      " 21  TERM                     21535 non-null  float64\n",
      " 22  FST_PAYMENT              21535 non-null  float64\n",
      " 23  LOAN_NUM_TOTAL           21535 non-null  float64\n",
      " 24  LOAN_NUM_CLOSED          21535 non-null  float64\n",
      " 25  FAMILY_INCOME            21535 non-null  object \n",
      " 26  PERSONAL_INCOME          21535 non-null  float64\n",
      "dtypes: float64(9), int64(9), object(9)\n",
      "memory usage: 4.6+ MB\n"
     ]
    }
   ],
   "source": [
    "df.info()"
   ]
  },
  {
   "cell_type": "markdown",
   "metadata": {},
   "source": [
    "Пропусков довольно много, информация из разных табличек не очень хорошо стыкуется между собой.\n",
    "\n",
    "Первым делом избавимся от дубликатов в данных"
   ]
  },
  {
   "cell_type": "code",
   "execution_count": 60,
   "metadata": {},
   "outputs": [
    {
     "name": "stdout",
     "output_type": "stream",
     "text": [
      "<class 'pandas.core.frame.DataFrame'>\n",
      "Index: 16000 entries, 0 to 22311\n",
      "Data columns (total 27 columns):\n",
      " #   Column                   Non-Null Count  Dtype  \n",
      "---  ------                   --------------  -----  \n",
      " 0   ID_CLIENT                16000 non-null  int64  \n",
      " 1   AGE                      16000 non-null  int64  \n",
      " 2   GENDER                   16000 non-null  int64  \n",
      " 3   EDUCATION                16000 non-null  object \n",
      " 4   MARITAL_STATUS           16000 non-null  object \n",
      " 5   CHILD_TOTAL              16000 non-null  int64  \n",
      " 6   DEPENDANTS               16000 non-null  int64  \n",
      " 7   SOCSTATUS_WORK_FL        16000 non-null  int64  \n",
      " 8   SOCSTATUS_PENS_FL        16000 non-null  int64  \n",
      " 9   REG_ADDRESS_PROVINCE     16000 non-null  object \n",
      " 10  FACT_ADDRESS_PROVINCE    16000 non-null  object \n",
      " 11  POSTAL_ADDRESS_PROVINCE  16000 non-null  object \n",
      " 12  FL_PRESENCE_FL           16000 non-null  int64  \n",
      " 13  OWN_AUTO                 16000 non-null  int64  \n",
      " 14  AGREEMENT_RK             15223 non-null  float64\n",
      " 15  TARGET                   15223 non-null  float64\n",
      " 16  GEN_INDUSTRY             13856 non-null  object \n",
      " 17  GEN_TITLE                13856 non-null  object \n",
      " 18  JOB_DIR                  13856 non-null  object \n",
      " 19  WORK_TIME                13855 non-null  float64\n",
      " 20  CREDIT                   15223 non-null  float64\n",
      " 21  TERM                     15223 non-null  float64\n",
      " 22  FST_PAYMENT              15223 non-null  float64\n",
      " 23  LOAN_NUM_TOTAL           15223 non-null  float64\n",
      " 24  LOAN_NUM_CLOSED          15223 non-null  float64\n",
      " 25  FAMILY_INCOME            15223 non-null  object \n",
      " 26  PERSONAL_INCOME          15223 non-null  float64\n",
      "dtypes: float64(9), int64(9), object(9)\n",
      "memory usage: 3.4+ MB\n"
     ]
    }
   ],
   "source": [
    "df = df.drop_duplicates(keep = 'first')\n",
    "df.info()"
   ]
  },
  {
   "cell_type": "markdown",
   "metadata": {},
   "source": [
    "Ручная проверка того, что информация правильно собралась из разных таблиц по одному из клиентов"
   ]
  },
  {
   "cell_type": "code",
   "execution_count": 61,
   "metadata": {},
   "outputs": [
    {
     "data": {
      "text/html": [
       "<div>\n",
       "<style scoped>\n",
       "    .dataframe tbody tr th:only-of-type {\n",
       "        vertical-align: middle;\n",
       "    }\n",
       "\n",
       "    .dataframe tbody tr th {\n",
       "        vertical-align: top;\n",
       "    }\n",
       "\n",
       "    .dataframe thead th {\n",
       "        text-align: right;\n",
       "    }\n",
       "</style>\n",
       "<table border=\"1\" class=\"dataframe\">\n",
       "  <thead>\n",
       "    <tr style=\"text-align: right;\">\n",
       "      <th></th>\n",
       "      <th>ID_CLIENT</th>\n",
       "      <th>AGE</th>\n",
       "      <th>GENDER</th>\n",
       "      <th>EDUCATION</th>\n",
       "      <th>MARITAL_STATUS</th>\n",
       "      <th>CHILD_TOTAL</th>\n",
       "      <th>DEPENDANTS</th>\n",
       "      <th>SOCSTATUS_WORK_FL</th>\n",
       "      <th>SOCSTATUS_PENS_FL</th>\n",
       "      <th>REG_ADDRESS_PROVINCE</th>\n",
       "      <th>...</th>\n",
       "      <th>GEN_TITLE</th>\n",
       "      <th>JOB_DIR</th>\n",
       "      <th>WORK_TIME</th>\n",
       "      <th>CREDIT</th>\n",
       "      <th>TERM</th>\n",
       "      <th>FST_PAYMENT</th>\n",
       "      <th>LOAN_NUM_TOTAL</th>\n",
       "      <th>LOAN_NUM_CLOSED</th>\n",
       "      <th>FAMILY_INCOME</th>\n",
       "      <th>PERSONAL_INCOME</th>\n",
       "    </tr>\n",
       "  </thead>\n",
       "  <tbody>\n",
       "    <tr>\n",
       "      <th>5244</th>\n",
       "      <td>106804372</td>\n",
       "      <td>52</td>\n",
       "      <td>1</td>\n",
       "      <td>Неполное среднее</td>\n",
       "      <td>Состою в браке</td>\n",
       "      <td>4</td>\n",
       "      <td>0</td>\n",
       "      <td>1</td>\n",
       "      <td>0</td>\n",
       "      <td>Иркутская область</td>\n",
       "      <td>...</td>\n",
       "      <td>Специалист</td>\n",
       "      <td>Участие в основ. деятельности</td>\n",
       "      <td>84.0</td>\n",
       "      <td>33126.0</td>\n",
       "      <td>12.0</td>\n",
       "      <td>4000.0</td>\n",
       "      <td>2.0</td>\n",
       "      <td>1.0</td>\n",
       "      <td>от 10000 до 20000 руб.</td>\n",
       "      <td>9000.0</td>\n",
       "    </tr>\n",
       "  </tbody>\n",
       "</table>\n",
       "<p>1 rows × 27 columns</p>\n",
       "</div>"
      ],
      "text/plain": [
       "      ID_CLIENT  AGE  GENDER         EDUCATION  MARITAL_STATUS  CHILD_TOTAL  \\\n",
       "5244  106804372   52       1  Неполное среднее  Состою в браке            4   \n",
       "\n",
       "      DEPENDANTS  SOCSTATUS_WORK_FL  SOCSTATUS_PENS_FL REG_ADDRESS_PROVINCE  \\\n",
       "5244           0                  1                  0    Иркутская область   \n",
       "\n",
       "      ...   GEN_TITLE                        JOB_DIR  WORK_TIME   CREDIT  \\\n",
       "5244  ...  Специалист  Участие в основ. деятельности       84.0  33126.0   \n",
       "\n",
       "      TERM  FST_PAYMENT LOAN_NUM_TOTAL LOAN_NUM_CLOSED  \\\n",
       "5244  12.0       4000.0            2.0             1.0   \n",
       "\n",
       "               FAMILY_INCOME  PERSONAL_INCOME  \n",
       "5244  от 10000 до 20000 руб.           9000.0  \n",
       "\n",
       "[1 rows x 27 columns]"
      ]
     },
     "execution_count": 61,
     "metadata": {},
     "output_type": "execute_result"
    }
   ],
   "source": [
    "df.loc[(df['ID_CLIENT'] == 106804372)]"
   ]
  },
  {
   "cell_type": "markdown",
   "metadata": {},
   "source": [
    "Убираем все данные, в которых есть пропуски в целевой переменной"
   ]
  },
  {
   "cell_type": "code",
   "execution_count": 62,
   "metadata": {},
   "outputs": [
    {
     "name": "stdout",
     "output_type": "stream",
     "text": [
      "<class 'pandas.core.frame.DataFrame'>\n",
      "Index: 15223 entries, 0 to 22311\n",
      "Data columns (total 27 columns):\n",
      " #   Column                   Non-Null Count  Dtype  \n",
      "---  ------                   --------------  -----  \n",
      " 0   ID_CLIENT                15223 non-null  int64  \n",
      " 1   AGE                      15223 non-null  int64  \n",
      " 2   GENDER                   15223 non-null  int64  \n",
      " 3   EDUCATION                15223 non-null  object \n",
      " 4   MARITAL_STATUS           15223 non-null  object \n",
      " 5   CHILD_TOTAL              15223 non-null  int64  \n",
      " 6   DEPENDANTS               15223 non-null  int64  \n",
      " 7   SOCSTATUS_WORK_FL        15223 non-null  int64  \n",
      " 8   SOCSTATUS_PENS_FL        15223 non-null  int64  \n",
      " 9   REG_ADDRESS_PROVINCE     15223 non-null  object \n",
      " 10  FACT_ADDRESS_PROVINCE    15223 non-null  object \n",
      " 11  POSTAL_ADDRESS_PROVINCE  15223 non-null  object \n",
      " 12  FL_PRESENCE_FL           15223 non-null  int64  \n",
      " 13  OWN_AUTO                 15223 non-null  int64  \n",
      " 14  AGREEMENT_RK             15223 non-null  float64\n",
      " 15  TARGET                   15223 non-null  float64\n",
      " 16  GEN_INDUSTRY             13856 non-null  object \n",
      " 17  GEN_TITLE                13856 non-null  object \n",
      " 18  JOB_DIR                  13856 non-null  object \n",
      " 19  WORK_TIME                13855 non-null  float64\n",
      " 20  CREDIT                   15223 non-null  float64\n",
      " 21  TERM                     15223 non-null  float64\n",
      " 22  FST_PAYMENT              15223 non-null  float64\n",
      " 23  LOAN_NUM_TOTAL           15223 non-null  float64\n",
      " 24  LOAN_NUM_CLOSED          15223 non-null  float64\n",
      " 25  FAMILY_INCOME            15223 non-null  object \n",
      " 26  PERSONAL_INCOME          15223 non-null  float64\n",
      "dtypes: float64(9), int64(9), object(9)\n",
      "memory usage: 3.3+ MB\n"
     ]
    }
   ],
   "source": [
    "df = df.loc[df['TARGET'].notna()]\n",
    "df.info()"
   ]
  },
  {
   "cell_type": "code",
   "execution_count": 63,
   "metadata": {},
   "outputs": [
    {
     "data": {
      "text/html": [
       "<div>\n",
       "<style scoped>\n",
       "    .dataframe tbody tr th:only-of-type {\n",
       "        vertical-align: middle;\n",
       "    }\n",
       "\n",
       "    .dataframe tbody tr th {\n",
       "        vertical-align: top;\n",
       "    }\n",
       "\n",
       "    .dataframe thead th {\n",
       "        text-align: right;\n",
       "    }\n",
       "</style>\n",
       "<table border=\"1\" class=\"dataframe\">\n",
       "  <thead>\n",
       "    <tr style=\"text-align: right;\">\n",
       "      <th></th>\n",
       "      <th>GEN_INDUSTRY</th>\n",
       "      <th>GEN_TITLE</th>\n",
       "      <th>JOB_DIR</th>\n",
       "    </tr>\n",
       "  </thead>\n",
       "  <tbody>\n",
       "    <tr>\n",
       "      <th>0</th>\n",
       "      <td>Другие сферы</td>\n",
       "      <td>Работник сферы услуг</td>\n",
       "      <td>Участие в основ. деятельности</td>\n",
       "    </tr>\n",
       "    <tr>\n",
       "      <th>1</th>\n",
       "      <td>Торговля</td>\n",
       "      <td>Специалист</td>\n",
       "      <td>Участие в основ. деятельности</td>\n",
       "    </tr>\n",
       "    <tr>\n",
       "      <th>2</th>\n",
       "      <td>Другие сферы</td>\n",
       "      <td>Руководитель высшего звена</td>\n",
       "      <td>Участие в основ. деятельности</td>\n",
       "    </tr>\n",
       "    <tr>\n",
       "      <th>3</th>\n",
       "      <td>Государственная служба</td>\n",
       "      <td>Специалист</td>\n",
       "      <td>Участие в основ. деятельности</td>\n",
       "    </tr>\n",
       "    <tr>\n",
       "      <th>4</th>\n",
       "      <td>Другие сферы</td>\n",
       "      <td>Специалист</td>\n",
       "      <td>Участие в основ. деятельности</td>\n",
       "    </tr>\n",
       "    <tr>\n",
       "      <th>...</th>\n",
       "      <td>...</td>\n",
       "      <td>...</td>\n",
       "      <td>...</td>\n",
       "    </tr>\n",
       "    <tr>\n",
       "      <th>22306</th>\n",
       "      <td>Сборочные производства</td>\n",
       "      <td>Специалист</td>\n",
       "      <td>Участие в основ. деятельности</td>\n",
       "    </tr>\n",
       "    <tr>\n",
       "      <th>22308</th>\n",
       "      <td>Торговля</td>\n",
       "      <td>Специалист</td>\n",
       "      <td>Участие в основ. деятельности</td>\n",
       "    </tr>\n",
       "    <tr>\n",
       "      <th>22309</th>\n",
       "      <td>Торговля</td>\n",
       "      <td>Специалист</td>\n",
       "      <td>Участие в основ. деятельности</td>\n",
       "    </tr>\n",
       "    <tr>\n",
       "      <th>22310</th>\n",
       "      <td>Транспорт</td>\n",
       "      <td>Специалист</td>\n",
       "      <td>Участие в основ. деятельности</td>\n",
       "    </tr>\n",
       "    <tr>\n",
       "      <th>22311</th>\n",
       "      <td>Другие сферы</td>\n",
       "      <td>Рабочий</td>\n",
       "      <td>Вспомогательный техперсонал</td>\n",
       "    </tr>\n",
       "  </tbody>\n",
       "</table>\n",
       "<p>15223 rows × 3 columns</p>\n",
       "</div>"
      ],
      "text/plain": [
       "                 GEN_INDUSTRY                   GEN_TITLE  \\\n",
       "0                Другие сферы        Работник сферы услуг   \n",
       "1                    Торговля                  Специалист   \n",
       "2                Другие сферы  Руководитель высшего звена   \n",
       "3      Государственная служба                  Специалист   \n",
       "4                Другие сферы                  Специалист   \n",
       "...                       ...                         ...   \n",
       "22306  Сборочные производства                  Специалист   \n",
       "22308                Торговля                  Специалист   \n",
       "22309                Торговля                  Специалист   \n",
       "22310               Транспорт                  Специалист   \n",
       "22311            Другие сферы                     Рабочий   \n",
       "\n",
       "                             JOB_DIR  \n",
       "0      Участие в основ. деятельности  \n",
       "1      Участие в основ. деятельности  \n",
       "2      Участие в основ. деятельности  \n",
       "3      Участие в основ. деятельности  \n",
       "4      Участие в основ. деятельности  \n",
       "...                              ...  \n",
       "22306  Участие в основ. деятельности  \n",
       "22308  Участие в основ. деятельности  \n",
       "22309  Участие в основ. деятельности  \n",
       "22310  Участие в основ. деятельности  \n",
       "22311    Вспомогательный техперсонал  \n",
       "\n",
       "[15223 rows x 3 columns]"
      ]
     },
     "execution_count": 63,
     "metadata": {},
     "output_type": "execute_result"
    }
   ],
   "source": [
    "df[['GEN_INDUSTRY', 'GEN_TITLE', 'JOB_DIR']]"
   ]
  },
  {
   "cell_type": "markdown",
   "metadata": {},
   "source": [
    "Видим  существенные пропуски в столбцах GEN_INDUSTRY, GEN_TITLE, JOB_DIR. Это категориальные данные, но пропуски будет очень трудно восстановить. \n",
    "\n",
    "Как вариант можно было бы заполнить самым часто встречаемым значением по каждому столбцу или обучить модель предсказывать пропуски, но для данного задания просто удалим эти столбцы.\n",
    "\n",
    "Их нет в списке обязательных для итогового файла, и у нас итак довольно много информации о клиентах банка."
   ]
  },
  {
   "cell_type": "markdown",
   "metadata": {},
   "source": [
    "### Необходимые столбцы:\n",
    "\n",
    "- AGREEMENT_RK — уникальный идентификатор объекта в выборке;\n",
    "- TARGET — целевая переменная: отклик на маркетинговую кампанию (1 — отклик был зарегистрирован, 0 — отклика не было);\n",
    "- AGE — возраст клиента;\n",
    "- SOCSTATUS_WORK_FL — социальный статус клиента относительно работы (1 — работает, 0 — не работает);\n",
    "- SOCSTATUS_PENS_FL — социальный статус клиента относительно пенсии (1 — пенсионер, 0 — не пенсионер);\n",
    "- GENDER — пол клиента (1 — мужчина, 0 — женщина);\n",
    "- CHILD_TOTAL — количество детей клиента;\n",
    "- DEPENDANTS — количество иждивенцев клиента;\n",
    "- PERSONAL_INCOME — личный доход клиента (в рублях);\n",
    "- LOAN_NUM_TOTAL — количество ссуд клиента;\n",
    "- LOAN_NUM_CLOSED — количество погашенных ссуд клиента."
   ]
  },
  {
   "cell_type": "code",
   "execution_count": 64,
   "metadata": {},
   "outputs": [
    {
     "name": "stdout",
     "output_type": "stream",
     "text": [
      "<class 'pandas.core.frame.DataFrame'>\n",
      "Index: 15223 entries, 0 to 22311\n",
      "Data columns (total 24 columns):\n",
      " #   Column                   Non-Null Count  Dtype  \n",
      "---  ------                   --------------  -----  \n",
      " 0   ID_CLIENT                15223 non-null  int64  \n",
      " 1   AGE                      15223 non-null  int64  \n",
      " 2   GENDER                   15223 non-null  int64  \n",
      " 3   EDUCATION                15223 non-null  object \n",
      " 4   MARITAL_STATUS           15223 non-null  object \n",
      " 5   CHILD_TOTAL              15223 non-null  int64  \n",
      " 6   DEPENDANTS               15223 non-null  int64  \n",
      " 7   SOCSTATUS_WORK_FL        15223 non-null  int64  \n",
      " 8   SOCSTATUS_PENS_FL        15223 non-null  int64  \n",
      " 9   REG_ADDRESS_PROVINCE     15223 non-null  object \n",
      " 10  FACT_ADDRESS_PROVINCE    15223 non-null  object \n",
      " 11  POSTAL_ADDRESS_PROVINCE  15223 non-null  object \n",
      " 12  FL_PRESENCE_FL           15223 non-null  int64  \n",
      " 13  OWN_AUTO                 15223 non-null  int64  \n",
      " 14  AGREEMENT_RK             15223 non-null  float64\n",
      " 15  TARGET                   15223 non-null  float64\n",
      " 16  WORK_TIME                15223 non-null  float64\n",
      " 17  CREDIT                   15223 non-null  float64\n",
      " 18  TERM                     15223 non-null  float64\n",
      " 19  FST_PAYMENT              15223 non-null  float64\n",
      " 20  LOAN_NUM_TOTAL           15223 non-null  float64\n",
      " 21  LOAN_NUM_CLOSED          15223 non-null  float64\n",
      " 22  FAMILY_INCOME            15223 non-null  object \n",
      " 23  PERSONAL_INCOME          15223 non-null  float64\n",
      "dtypes: float64(9), int64(9), object(6)\n",
      "memory usage: 2.9+ MB\n"
     ]
    }
   ],
   "source": [
    "df = df.drop(['GEN_INDUSTRY', 'GEN_TITLE', 'JOB_DIR'], axis=1)\n",
    "df['WORK_TIME'].fillna(df['WORK_TIME'].median(), inplace=True)\n",
    "df.info()"
   ]
  },
  {
   "cell_type": "markdown",
   "metadata": {},
   "source": [
    "Переводим чилсовые столбцы обратно к формату integer"
   ]
  },
  {
   "cell_type": "code",
   "execution_count": 65,
   "metadata": {},
   "outputs": [
    {
     "name": "stdout",
     "output_type": "stream",
     "text": [
      "<class 'pandas.core.frame.DataFrame'>\n",
      "Index: 15223 entries, 0 to 22311\n",
      "Data columns (total 24 columns):\n",
      " #   Column                   Non-Null Count  Dtype \n",
      "---  ------                   --------------  ----- \n",
      " 0   ID_CLIENT                15223 non-null  int64 \n",
      " 1   AGE                      15223 non-null  int64 \n",
      " 2   GENDER                   15223 non-null  int64 \n",
      " 3   EDUCATION                15223 non-null  object\n",
      " 4   MARITAL_STATUS           15223 non-null  object\n",
      " 5   CHILD_TOTAL              15223 non-null  int64 \n",
      " 6   DEPENDANTS               15223 non-null  int64 \n",
      " 7   SOCSTATUS_WORK_FL        15223 non-null  int64 \n",
      " 8   SOCSTATUS_PENS_FL        15223 non-null  int64 \n",
      " 9   REG_ADDRESS_PROVINCE     15223 non-null  object\n",
      " 10  FACT_ADDRESS_PROVINCE    15223 non-null  object\n",
      " 11  POSTAL_ADDRESS_PROVINCE  15223 non-null  object\n",
      " 12  FL_PRESENCE_FL           15223 non-null  int64 \n",
      " 13  OWN_AUTO                 15223 non-null  int64 \n",
      " 14  AGREEMENT_RK             15223 non-null  int64 \n",
      " 15  TARGET                   15223 non-null  int64 \n",
      " 16  WORK_TIME                15223 non-null  int64 \n",
      " 17  CREDIT                   15223 non-null  int64 \n",
      " 18  TERM                     15223 non-null  int64 \n",
      " 19  FST_PAYMENT              15223 non-null  int64 \n",
      " 20  LOAN_NUM_TOTAL           15223 non-null  int64 \n",
      " 21  LOAN_NUM_CLOSED          15223 non-null  int64 \n",
      " 22  FAMILY_INCOME            15223 non-null  object\n",
      " 23  PERSONAL_INCOME          15223 non-null  int64 \n",
      "dtypes: int64(18), object(6)\n",
      "memory usage: 2.9+ MB\n"
     ]
    }
   ],
   "source": [
    "df[['AGREEMENT_RK', 'TARGET', 'WORK_TIME', 'CREDIT', \n",
    "    'TERM', 'FST_PAYMENT', 'LOAN_NUM_TOTAL',\n",
    "    'LOAN_NUM_CLOSED', 'PERSONAL_INCOME']] = df[['AGREEMENT_RK', 'TARGET', \n",
    "                              'WORK_TIME', 'CREDIT', 'TERM', \n",
    "                              'FST_PAYMENT', 'LOAN_NUM_TOTAL', \n",
    "                              'LOAN_NUM_CLOSED', 'PERSONAL_INCOME']].astype('int64')\n",
    "df.info()"
   ]
  },
  {
   "cell_type": "markdown",
   "metadata": {},
   "source": [
    "Попробуем более пристально посмотреть на данные и найти странные неувязки"
   ]
  },
  {
   "cell_type": "code",
   "execution_count": 66,
   "metadata": {},
   "outputs": [
    {
     "data": {
      "text/html": [
       "<div>\n",
       "<style scoped>\n",
       "    .dataframe tbody tr th:only-of-type {\n",
       "        vertical-align: middle;\n",
       "    }\n",
       "\n",
       "    .dataframe tbody tr th {\n",
       "        vertical-align: top;\n",
       "    }\n",
       "\n",
       "    .dataframe thead th {\n",
       "        text-align: right;\n",
       "    }\n",
       "</style>\n",
       "<table border=\"1\" class=\"dataframe\">\n",
       "  <thead>\n",
       "    <tr style=\"text-align: right;\">\n",
       "      <th></th>\n",
       "      <th>ID_CLIENT</th>\n",
       "      <th>AGE</th>\n",
       "      <th>GENDER</th>\n",
       "      <th>CHILD_TOTAL</th>\n",
       "      <th>DEPENDANTS</th>\n",
       "      <th>SOCSTATUS_WORK_FL</th>\n",
       "      <th>SOCSTATUS_PENS_FL</th>\n",
       "      <th>FL_PRESENCE_FL</th>\n",
       "      <th>OWN_AUTO</th>\n",
       "      <th>AGREEMENT_RK</th>\n",
       "      <th>TARGET</th>\n",
       "      <th>WORK_TIME</th>\n",
       "      <th>CREDIT</th>\n",
       "      <th>TERM</th>\n",
       "      <th>FST_PAYMENT</th>\n",
       "      <th>LOAN_NUM_TOTAL</th>\n",
       "      <th>LOAN_NUM_CLOSED</th>\n",
       "      <th>PERSONAL_INCOME</th>\n",
       "    </tr>\n",
       "  </thead>\n",
       "  <tbody>\n",
       "    <tr>\n",
       "      <th>count</th>\n",
       "      <td>1.522300e+04</td>\n",
       "      <td>15223.000000</td>\n",
       "      <td>15223.000000</td>\n",
       "      <td>15223.000000</td>\n",
       "      <td>15223.000000</td>\n",
       "      <td>15223.000000</td>\n",
       "      <td>15223.000000</td>\n",
       "      <td>15223.000000</td>\n",
       "      <td>15223.000000</td>\n",
       "      <td>1.522300e+04</td>\n",
       "      <td>15223.000000</td>\n",
       "      <td>1.522300e+04</td>\n",
       "      <td>15223.000000</td>\n",
       "      <td>15223.000000</td>\n",
       "      <td>15223.000000</td>\n",
       "      <td>15223.000000</td>\n",
       "      <td>15223.000000</td>\n",
       "      <td>15223.000000</td>\n",
       "    </tr>\n",
       "    <tr>\n",
       "      <th>mean</th>\n",
       "      <td>1.068120e+08</td>\n",
       "      <td>40.406096</td>\n",
       "      <td>0.654536</td>\n",
       "      <td>1.099389</td>\n",
       "      <td>0.645208</td>\n",
       "      <td>0.909610</td>\n",
       "      <td>0.134468</td>\n",
       "      <td>0.309794</td>\n",
       "      <td>0.116337</td>\n",
       "      <td>6.540183e+07</td>\n",
       "      <td>0.119030</td>\n",
       "      <td>2.702661e+02</td>\n",
       "      <td>14667.934441</td>\n",
       "      <td>8.101031</td>\n",
       "      <td>3398.548643</td>\n",
       "      <td>1.387769</td>\n",
       "      <td>0.751889</td>\n",
       "      <td>13853.836300</td>\n",
       "    </tr>\n",
       "    <tr>\n",
       "      <th>std</th>\n",
       "      <td>4.394646e+03</td>\n",
       "      <td>11.601068</td>\n",
       "      <td>0.475535</td>\n",
       "      <td>0.995411</td>\n",
       "      <td>0.812252</td>\n",
       "      <td>0.286748</td>\n",
       "      <td>0.341165</td>\n",
       "      <td>0.462424</td>\n",
       "      <td>0.320844</td>\n",
       "      <td>4.568181e+06</td>\n",
       "      <td>0.323835</td>\n",
       "      <td>2.324433e+04</td>\n",
       "      <td>12147.874140</td>\n",
       "      <td>4.094090</td>\n",
       "      <td>5158.109298</td>\n",
       "      <td>0.793566</td>\n",
       "      <td>0.988499</td>\n",
       "      <td>9015.467619</td>\n",
       "    </tr>\n",
       "    <tr>\n",
       "      <th>min</th>\n",
       "      <td>1.068044e+08</td>\n",
       "      <td>21.000000</td>\n",
       "      <td>0.000000</td>\n",
       "      <td>0.000000</td>\n",
       "      <td>0.000000</td>\n",
       "      <td>0.000000</td>\n",
       "      <td>0.000000</td>\n",
       "      <td>0.000000</td>\n",
       "      <td>0.000000</td>\n",
       "      <td>5.991015e+07</td>\n",
       "      <td>0.000000</td>\n",
       "      <td>1.000000e+00</td>\n",
       "      <td>2000.000000</td>\n",
       "      <td>3.000000</td>\n",
       "      <td>0.000000</td>\n",
       "      <td>1.000000</td>\n",
       "      <td>0.000000</td>\n",
       "      <td>24.000000</td>\n",
       "    </tr>\n",
       "    <tr>\n",
       "      <th>25%</th>\n",
       "      <td>1.068082e+08</td>\n",
       "      <td>30.000000</td>\n",
       "      <td>0.000000</td>\n",
       "      <td>0.000000</td>\n",
       "      <td>0.000000</td>\n",
       "      <td>1.000000</td>\n",
       "      <td>0.000000</td>\n",
       "      <td>0.000000</td>\n",
       "      <td>0.000000</td>\n",
       "      <td>6.192092e+07</td>\n",
       "      <td>0.000000</td>\n",
       "      <td>2.400000e+01</td>\n",
       "      <td>6500.000000</td>\n",
       "      <td>6.000000</td>\n",
       "      <td>1000.000000</td>\n",
       "      <td>1.000000</td>\n",
       "      <td>0.000000</td>\n",
       "      <td>8000.000000</td>\n",
       "    </tr>\n",
       "    <tr>\n",
       "      <th>50%</th>\n",
       "      <td>1.068120e+08</td>\n",
       "      <td>39.000000</td>\n",
       "      <td>1.000000</td>\n",
       "      <td>1.000000</td>\n",
       "      <td>0.000000</td>\n",
       "      <td>1.000000</td>\n",
       "      <td>0.000000</td>\n",
       "      <td>0.000000</td>\n",
       "      <td>0.000000</td>\n",
       "      <td>6.437100e+07</td>\n",
       "      <td>0.000000</td>\n",
       "      <td>4.800000e+01</td>\n",
       "      <td>11550.000000</td>\n",
       "      <td>6.000000</td>\n",
       "      <td>2000.000000</td>\n",
       "      <td>1.000000</td>\n",
       "      <td>0.000000</td>\n",
       "      <td>12000.000000</td>\n",
       "    </tr>\n",
       "    <tr>\n",
       "      <th>75%</th>\n",
       "      <td>1.068158e+08</td>\n",
       "      <td>50.000000</td>\n",
       "      <td>1.000000</td>\n",
       "      <td>2.000000</td>\n",
       "      <td>1.000000</td>\n",
       "      <td>1.000000</td>\n",
       "      <td>0.000000</td>\n",
       "      <td>1.000000</td>\n",
       "      <td>0.000000</td>\n",
       "      <td>6.708802e+07</td>\n",
       "      <td>0.000000</td>\n",
       "      <td>9.600000e+01</td>\n",
       "      <td>19170.000000</td>\n",
       "      <td>10.000000</td>\n",
       "      <td>4000.000000</td>\n",
       "      <td>2.000000</td>\n",
       "      <td>1.000000</td>\n",
       "      <td>17000.000000</td>\n",
       "    </tr>\n",
       "    <tr>\n",
       "      <th>max</th>\n",
       "      <td>1.068196e+08</td>\n",
       "      <td>67.000000</td>\n",
       "      <td>1.000000</td>\n",
       "      <td>10.000000</td>\n",
       "      <td>7.000000</td>\n",
       "      <td>1.000000</td>\n",
       "      <td>1.000000</td>\n",
       "      <td>1.000000</td>\n",
       "      <td>2.000000</td>\n",
       "      <td>7.529224e+07</td>\n",
       "      <td>1.000000</td>\n",
       "      <td>2.867959e+06</td>\n",
       "      <td>119700.000000</td>\n",
       "      <td>36.000000</td>\n",
       "      <td>140000.000000</td>\n",
       "      <td>11.000000</td>\n",
       "      <td>11.000000</td>\n",
       "      <td>250000.000000</td>\n",
       "    </tr>\n",
       "  </tbody>\n",
       "</table>\n",
       "</div>"
      ],
      "text/plain": [
       "          ID_CLIENT           AGE        GENDER   CHILD_TOTAL    DEPENDANTS  \\\n",
       "count  1.522300e+04  15223.000000  15223.000000  15223.000000  15223.000000   \n",
       "mean   1.068120e+08     40.406096      0.654536      1.099389      0.645208   \n",
       "std    4.394646e+03     11.601068      0.475535      0.995411      0.812252   \n",
       "min    1.068044e+08     21.000000      0.000000      0.000000      0.000000   \n",
       "25%    1.068082e+08     30.000000      0.000000      0.000000      0.000000   \n",
       "50%    1.068120e+08     39.000000      1.000000      1.000000      0.000000   \n",
       "75%    1.068158e+08     50.000000      1.000000      2.000000      1.000000   \n",
       "max    1.068196e+08     67.000000      1.000000     10.000000      7.000000   \n",
       "\n",
       "       SOCSTATUS_WORK_FL  SOCSTATUS_PENS_FL  FL_PRESENCE_FL      OWN_AUTO  \\\n",
       "count       15223.000000       15223.000000    15223.000000  15223.000000   \n",
       "mean            0.909610           0.134468        0.309794      0.116337   \n",
       "std             0.286748           0.341165        0.462424      0.320844   \n",
       "min             0.000000           0.000000        0.000000      0.000000   \n",
       "25%             1.000000           0.000000        0.000000      0.000000   \n",
       "50%             1.000000           0.000000        0.000000      0.000000   \n",
       "75%             1.000000           0.000000        1.000000      0.000000   \n",
       "max             1.000000           1.000000        1.000000      2.000000   \n",
       "\n",
       "       AGREEMENT_RK        TARGET     WORK_TIME         CREDIT          TERM  \\\n",
       "count  1.522300e+04  15223.000000  1.522300e+04   15223.000000  15223.000000   \n",
       "mean   6.540183e+07      0.119030  2.702661e+02   14667.934441      8.101031   \n",
       "std    4.568181e+06      0.323835  2.324433e+04   12147.874140      4.094090   \n",
       "min    5.991015e+07      0.000000  1.000000e+00    2000.000000      3.000000   \n",
       "25%    6.192092e+07      0.000000  2.400000e+01    6500.000000      6.000000   \n",
       "50%    6.437100e+07      0.000000  4.800000e+01   11550.000000      6.000000   \n",
       "75%    6.708802e+07      0.000000  9.600000e+01   19170.000000     10.000000   \n",
       "max    7.529224e+07      1.000000  2.867959e+06  119700.000000     36.000000   \n",
       "\n",
       "         FST_PAYMENT  LOAN_NUM_TOTAL  LOAN_NUM_CLOSED  PERSONAL_INCOME  \n",
       "count   15223.000000    15223.000000     15223.000000     15223.000000  \n",
       "mean     3398.548643        1.387769         0.751889     13853.836300  \n",
       "std      5158.109298        0.793566         0.988499      9015.467619  \n",
       "min         0.000000        1.000000         0.000000        24.000000  \n",
       "25%      1000.000000        1.000000         0.000000      8000.000000  \n",
       "50%      2000.000000        1.000000         0.000000     12000.000000  \n",
       "75%      4000.000000        2.000000         1.000000     17000.000000  \n",
       "max    140000.000000       11.000000        11.000000    250000.000000  "
      ]
     },
     "execution_count": 66,
     "metadata": {},
     "output_type": "execute_result"
    }
   ],
   "source": [
    "df.describe()"
   ]
  },
  {
   "cell_type": "code",
   "execution_count": 67,
   "metadata": {},
   "outputs": [
    {
     "data": {
      "text/plain": [
       "array([ 25000,  10000,  30000,  15000,   7800,  12000,   8000,   7000,\n",
       "         9000,   4900,  20000,   5500,  55000,   8500,   5000,   6500,\n",
       "        27000,   6000,  10500,  13000,  11000,  21000,  23000,  22000,\n",
       "         7500,  12500,  17500,  18000,  40000,  14000,  17000,  16000,\n",
       "         8700,  11500,  35000,   8600,  45000,   9340,   8200,   6700,\n",
       "        80000,  12800,  24000,   5200,  12650,   7100,  29000,   9330,\n",
       "         7850,   4300,  13200,   9500,  34000,   4000,   5582,  19000,\n",
       "         5400,   5800,   7300,   7600,   9700,  15600,  20500,   3500,\n",
       "         9800,  36000,  28000,   4800,   4600,  17404,  15500,   3000,\n",
       "         8100,  26000,   6200, 100000,  24500,  13500,   4500,   5600,\n",
       "        12900,   5350,   9100,  22955,   7200,  18600,   5460,  18500,\n",
       "        43000,  10200,   6800,   8350,  11640,   9600, 150000,   6400,\n",
       "         7900,  17800,   5300,   8400,  10400,   5446,  50000,   7640,\n",
       "         8900,   4700,  18700,  10300,   5100,   5900,  12600,  19500,\n",
       "        10600,  14800,   3700,   5700,   9400,   6600,   7400,  65000,\n",
       "        17600,   9200,  37000,   3800,  11700,  33000,   8800,  14500,\n",
       "         9300,   6900,  48000,  42500, 250000,   2000,   8300,  32000,\n",
       "        10700,   6300,  38000,   6100,   4400,  16500,  60000,  10800,\n",
       "           24,  13450,  12300,  16800,  92000,   4950,   4330,  18200,\n",
       "         9900,   3200,  31000,   5050,   5425,  67700,  21800,  41900,\n",
       "        14300,  29500,   4515,  11400,  42000,   6608,  15400,   8726,\n",
       "        19700,   7101,   4200,  13300,  11300,  75000,   5680,   3900,\n",
       "        52000,   6670,   8250,   5088, 160000,  11800,  13160,  12700,\n",
       "        47000,   4590,   8066,  11600,  39000,  20646,  10100,   7251,\n",
       "        13150,   7700,  12400,   7050,  17200,   6299,   4100,  16200,\n",
       "        15200,  70000,  15300,   3400,  29800,  19600,  13900,  56000,\n",
       "        12100,  77000,   5360,  27300,   5339,   9628,   2800,  19300,\n",
       "        15380,   3100,   9240,  41000,  11900,  25800,   5790,  46000,\n",
       "        16900,   6359,  17700,  67000,   7250,  26500,  13400,  16700,\n",
       "        54000,   4340,  14358,  16050,   2100,  10900, 220000,  49000,\n",
       "        11200,  21500,  23100,  13600,  13800,   2300,  23800,   4360,\n",
       "        51000,  14700,  53000, 110000,   7830,  15560, 170000,   5230,\n",
       "         3300,  32640,  23500,  28300,  22500,   7650,  17900,   1950,\n",
       "        13700,   7550,   3600,   6180,  16100,  24800,  19800,   7220,\n",
       "        44000,  68000], dtype=int64)"
      ]
     },
     "execution_count": 67,
     "metadata": {},
     "output_type": "execute_result"
    }
   ],
   "source": [
    "df['PERSONAL_INCOME'].unique()"
   ]
  },
  {
   "cell_type": "markdown",
   "metadata": {},
   "source": [
    "Удаляем строчку с зарплатой 24 рубля"
   ]
  },
  {
   "cell_type": "code",
   "execution_count": 68,
   "metadata": {},
   "outputs": [
    {
     "name": "stdout",
     "output_type": "stream",
     "text": [
      "<class 'pandas.core.frame.DataFrame'>\n",
      "Index: 15222 entries, 0 to 22311\n",
      "Data columns (total 24 columns):\n",
      " #   Column                   Non-Null Count  Dtype \n",
      "---  ------                   --------------  ----- \n",
      " 0   ID_CLIENT                15222 non-null  int64 \n",
      " 1   AGE                      15222 non-null  int64 \n",
      " 2   GENDER                   15222 non-null  int64 \n",
      " 3   EDUCATION                15222 non-null  object\n",
      " 4   MARITAL_STATUS           15222 non-null  object\n",
      " 5   CHILD_TOTAL              15222 non-null  int64 \n",
      " 6   DEPENDANTS               15222 non-null  int64 \n",
      " 7   SOCSTATUS_WORK_FL        15222 non-null  int64 \n",
      " 8   SOCSTATUS_PENS_FL        15222 non-null  int64 \n",
      " 9   REG_ADDRESS_PROVINCE     15222 non-null  object\n",
      " 10  FACT_ADDRESS_PROVINCE    15222 non-null  object\n",
      " 11  POSTAL_ADDRESS_PROVINCE  15222 non-null  object\n",
      " 12  FL_PRESENCE_FL           15222 non-null  int64 \n",
      " 13  OWN_AUTO                 15222 non-null  int64 \n",
      " 14  AGREEMENT_RK             15222 non-null  int64 \n",
      " 15  TARGET                   15222 non-null  int64 \n",
      " 16  WORK_TIME                15222 non-null  int64 \n",
      " 17  CREDIT                   15222 non-null  int64 \n",
      " 18  TERM                     15222 non-null  int64 \n",
      " 19  FST_PAYMENT              15222 non-null  int64 \n",
      " 20  LOAN_NUM_TOTAL           15222 non-null  int64 \n",
      " 21  LOAN_NUM_CLOSED          15222 non-null  int64 \n",
      " 22  FAMILY_INCOME            15222 non-null  object\n",
      " 23  PERSONAL_INCOME          15222 non-null  int64 \n",
      "dtypes: int64(18), object(6)\n",
      "memory usage: 2.9+ MB\n"
     ]
    }
   ],
   "source": [
    "df = df.loc[df['PERSONAL_INCOME'] != 24]\n",
    "df.info()"
   ]
  },
  {
   "cell_type": "code",
   "execution_count": 69,
   "metadata": {},
   "outputs": [
    {
     "data": {
      "text/plain": [
       "array([42, 28, 64, 54, 26, 63, 32, 52, 47, 23, 31, 25, 37, 46, 62, 50, 30,\n",
       "       41, 27, 61, 38, 51, 58, 35, 45, 56, 36, 55, 29, 39, 43, 44, 34, 40,\n",
       "       22, 57, 59, 48, 49, 33, 53, 60, 24, 67, 66, 65, 21], dtype=int64)"
      ]
     },
     "execution_count": 69,
     "metadata": {},
     "output_type": "execute_result"
    }
   ],
   "source": [
    "df['AGE'].unique()"
   ]
  },
  {
   "cell_type": "code",
   "execution_count": 70,
   "metadata": {},
   "outputs": [
    {
     "data": {
      "text/plain": [
       "array([      3,       5,     360,      12,      48,      96,     217,\n",
       "            10,      18,     239,       8,      36,      60,     216,\n",
       "            30,      14,      54,     132,      72,       6,     120,\n",
       "            84,     504,      90,      29,      24,     108,      40,\n",
       "           144,      50,     408,      78,     192,     180,     350,\n",
       "            16,     156,      80,      69,      59,     301,     168,\n",
       "           228,     197,      20,     276,     300,     384,     288,\n",
       "            19,     138,       7,     372,     264,      11,     252,\n",
       "            15,     242,       9,     245,      26,     396,     240,\n",
       "            42,     204,     150,      13,      39,      49,      64,\n",
       "           420,     324,      71,      65,      22,     390,      23,\n",
       "             2,     127,      86,      62,     102,       4,     124,\n",
       "           105,      17,     456,      28,     328,      38,      25,\n",
       "           480,      47,      56,      53,     312,       1,      27,\n",
       "            46,      93,     348,     336,      35,      21,     432,\n",
       "            70,     256,      73,      97,      45,      91,      67,\n",
       "           206,      77,      66,      92,      52,     250,      43,\n",
       "           249,     126,      76,     444,     152,      34,     161,\n",
       "            88,     191,      94,      37,     196,     110,      87,\n",
       "           100,      63,     230,     310,      74,      85,     130,\n",
       "            55,     131,      51,      32,     160,     492,     410,\n",
       "           270,      98,     200,     254,     395,     400,     111,\n",
       "           203,     284,    1254,      44,     430,     220,     445,\n",
       "           140,     215,     516,     190,      31,     469,     282,\n",
       "           157,     113,     122,      68,     107,     121,     229,\n",
       "           210,     363,     277,     295,     129,     128,      58,\n",
       "            75,     468,     142,     189,     177,     109, 2867959,\n",
       "           322,     331,     185,     106,     123,     860,     198,\n",
       "            41,     335,     260,      61,     205,     305,     170,\n",
       "            89,     864,     104,      79,     101,     234,     118,\n",
       "           115,     730,     183,     179,     116,     148,     279,\n",
       "           318,     519,      82,      57,     147,     169,     145,\n",
       "           398,     241,      33,     194,      99,     612,     280,\n",
       "           195,     463,     125,     193,     134,     540,     407,\n",
       "           297,     380,     460,     186,    1312,      95,     112,\n",
       "         10000,     600,     167,     171,     175,     367,     976,\n",
       "           114,     316,    1500,     287,     365,     244,     258,\n",
       "           320,     158,     162,     330,     133,     474,     378,\n",
       "           214,     135,     166,     188,    4320,     528,     207,\n",
       "           221,     159,    1120,     364,     174,     780,     136,\n",
       "           243,     265,     211,     219,     361,     235,     165,\n",
       "           339,     263,     298,     251,     391,    3500,     362,\n",
       "           273,     457,     236,     176,     209,     576,     187,\n",
       "           303], dtype=int64)"
      ]
     },
     "execution_count": 70,
     "metadata": {},
     "output_type": "execute_result"
    }
   ],
   "source": [
    "df['WORK_TIME'].unique()"
   ]
  },
  {
   "cell_type": "markdown",
   "metadata": {},
   "source": [
    "Удаляем строки с выбросами в часах работы за месяц. Число не может быть больше чем 40320, если в месяце 28 дней и 43200, если 30 дней. У нас всего один выброс"
   ]
  },
  {
   "cell_type": "code",
   "execution_count": 72,
   "metadata": {},
   "outputs": [
    {
     "name": "stdout",
     "output_type": "stream",
     "text": [
      "<class 'pandas.core.frame.DataFrame'>\n",
      "Index: 15221 entries, 0 to 22311\n",
      "Data columns (total 24 columns):\n",
      " #   Column                   Non-Null Count  Dtype \n",
      "---  ------                   --------------  ----- \n",
      " 0   ID_CLIENT                15221 non-null  int64 \n",
      " 1   AGE                      15221 non-null  int64 \n",
      " 2   GENDER                   15221 non-null  int64 \n",
      " 3   EDUCATION                15221 non-null  object\n",
      " 4   MARITAL_STATUS           15221 non-null  object\n",
      " 5   CHILD_TOTAL              15221 non-null  int64 \n",
      " 6   DEPENDANTS               15221 non-null  int64 \n",
      " 7   SOCSTATUS_WORK_FL        15221 non-null  int64 \n",
      " 8   SOCSTATUS_PENS_FL        15221 non-null  int64 \n",
      " 9   REG_ADDRESS_PROVINCE     15221 non-null  object\n",
      " 10  FACT_ADDRESS_PROVINCE    15221 non-null  object\n",
      " 11  POSTAL_ADDRESS_PROVINCE  15221 non-null  object\n",
      " 12  FL_PRESENCE_FL           15221 non-null  int64 \n",
      " 13  OWN_AUTO                 15221 non-null  int64 \n",
      " 14  AGREEMENT_RK             15221 non-null  int64 \n",
      " 15  TARGET                   15221 non-null  int64 \n",
      " 16  WORK_TIME                15221 non-null  int64 \n",
      " 17  CREDIT                   15221 non-null  int64 \n",
      " 18  TERM                     15221 non-null  int64 \n",
      " 19  FST_PAYMENT              15221 non-null  int64 \n",
      " 20  LOAN_NUM_TOTAL           15221 non-null  int64 \n",
      " 21  LOAN_NUM_CLOSED          15221 non-null  int64 \n",
      " 22  FAMILY_INCOME            15221 non-null  object\n",
      " 23  PERSONAL_INCOME          15221 non-null  int64 \n",
      "dtypes: int64(18), object(6)\n",
      "memory usage: 2.9+ MB\n"
     ]
    }
   ],
   "source": [
    "df = df.loc[df['WORK_TIME'] != 2867959]\n",
    "df.info()"
   ]
  },
  {
   "cell_type": "code",
   "execution_count": 73,
   "metadata": {},
   "outputs": [
    {
     "data": {
      "text/plain": [
       "EDUCATION\n",
       "Среднее специальное               6517\n",
       "Среднее                           4678\n",
       "Высшее                            3133\n",
       "Неоконченное высшее                532\n",
       "Неполное среднее                   340\n",
       "Два и более высших образования      20\n",
       "Ученая степень                       1\n",
       "Name: count, dtype: int64"
      ]
     },
     "execution_count": 73,
     "metadata": {},
     "output_type": "execute_result"
    }
   ],
   "source": [
    "df['EDUCATION'].value_counts()"
   ]
  },
  {
   "cell_type": "code",
   "execution_count": 74,
   "metadata": {},
   "outputs": [
    {
     "data": {
      "text/plain": [
       "MARITAL_STATUS\n",
       "Состою в браке        9415\n",
       "Не состоял в браке    3621\n",
       "Разведен(а)           1245\n",
       "Вдовец/Вдова           588\n",
       "Гражданский брак       352\n",
       "Name: count, dtype: int64"
      ]
     },
     "execution_count": 74,
     "metadata": {},
     "output_type": "execute_result"
    }
   ],
   "source": [
    "df['MARITAL_STATUS'].value_counts()"
   ]
  },
  {
   "cell_type": "code",
   "execution_count": 75,
   "metadata": {},
   "outputs": [
    {
     "data": {
      "text/plain": [
       "FAMILY_INCOME\n",
       "от 10000 до 20000 руб.    7077\n",
       "от 20000 до 50000 руб.    6080\n",
       "от 5000 до 10000 руб.     1512\n",
       "свыше 50000 руб.           492\n",
       "до 5000 руб.                60\n",
       "Name: count, dtype: int64"
      ]
     },
     "execution_count": 75,
     "metadata": {},
     "output_type": "execute_result"
    }
   ],
   "source": [
    "df['FAMILY_INCOME'].value_counts()"
   ]
  },
  {
   "cell_type": "markdown",
   "metadata": {},
   "source": [
    "Для обучения мождели можно было бы закодировать категориальные признаки, как показано ниже. В данном случае я решил этого не делать, чтобы было проще выводить данные при визуализации."
   ]
  },
  {
   "cell_type": "code",
   "execution_count": 76,
   "metadata": {},
   "outputs": [],
   "source": [
    "def education(val):\n",
    "    mapping ={\n",
    "        'Среднее специальное': 0, 'Среднее':1, 'Высшее':2, 'Неоконченное высшее':3,\n",
    "       'Неполное среднее':4, 'Два и более высших образования':5, 'Ученая степень':6\n",
    "    }\n",
    "    return mapping[val]\n",
    "def marital_status(val):\n",
    "    mapping = {\n",
    "        'Состою в браке': 0, 'Не состоял в браке': 1, 'Разведен(а)': 2, 'Вдовец/Вдова': 3,\n",
    "       'Гражданский брак': 4\n",
    "    }\n",
    "    return mapping[val]\n",
    "\n",
    "def income(val):\n",
    "    mapping = {\n",
    "        'от 10000 до 20000 руб.': 0, 'от 20000 до 50000 руб.': 1,\n",
    "       'от 5000 до 10000 руб.': 2, 'свыше 50000 руб.': 3, 'до 5000 руб.': 4\n",
    "    }\n",
    "    return mapping[val]"
   ]
  },
  {
   "cell_type": "code",
   "execution_count": 77,
   "metadata": {},
   "outputs": [],
   "source": [
    "#df['EDUCATION'] = df['EDUCATION'].apply(education)\n",
    "#df['MARITAL_STATUS'] = df['MARITAL_STATUS'].apply(marital_status)\n",
    "#df['FAMILY_INCOME'] = df['FAMILY_INCOME'].apply(income)"
   ]
  },
  {
   "cell_type": "code",
   "execution_count": 78,
   "metadata": {},
   "outputs": [],
   "source": [
    "#df_encoded = pd.get_dummies(df, columns=['EDUCATION', 'MARITAL_STATUS', 'FAMILY_INCOME'])\n",
    "#df_encoded"
   ]
  },
  {
   "cell_type": "code",
   "execution_count": 79,
   "metadata": {},
   "outputs": [
    {
     "data": {
      "text/plain": [
       "Index(['ID_CLIENT', 'AGE', 'GENDER', 'EDUCATION', 'MARITAL_STATUS',\n",
       "       'CHILD_TOTAL', 'DEPENDANTS', 'SOCSTATUS_WORK_FL', 'SOCSTATUS_PENS_FL',\n",
       "       'REG_ADDRESS_PROVINCE', 'FACT_ADDRESS_PROVINCE',\n",
       "       'POSTAL_ADDRESS_PROVINCE', 'FL_PRESENCE_FL', 'OWN_AUTO', 'AGREEMENT_RK',\n",
       "       'TARGET', 'WORK_TIME', 'CREDIT', 'TERM', 'FST_PAYMENT',\n",
       "       'LOAN_NUM_TOTAL', 'LOAN_NUM_CLOSED', 'FAMILY_INCOME',\n",
       "       'PERSONAL_INCOME'],\n",
       "      dtype='object')"
      ]
     },
     "execution_count": 79,
     "metadata": {},
     "output_type": "execute_result"
    }
   ],
   "source": [
    "df.columns"
   ]
  },
  {
   "cell_type": "code",
   "execution_count": 80,
   "metadata": {},
   "outputs": [
    {
     "data": {
      "text/html": [
       "<div>\n",
       "<style scoped>\n",
       "    .dataframe tbody tr th:only-of-type {\n",
       "        vertical-align: middle;\n",
       "    }\n",
       "\n",
       "    .dataframe tbody tr th {\n",
       "        vertical-align: top;\n",
       "    }\n",
       "\n",
       "    .dataframe thead th {\n",
       "        text-align: right;\n",
       "    }\n",
       "</style>\n",
       "<table border=\"1\" class=\"dataframe\">\n",
       "  <thead>\n",
       "    <tr style=\"text-align: right;\">\n",
       "      <th></th>\n",
       "      <th>ID_CLIENT</th>\n",
       "      <th>AGE</th>\n",
       "      <th>GENDER</th>\n",
       "      <th>EDUCATION</th>\n",
       "      <th>MARITAL_STATUS</th>\n",
       "      <th>CHILD_TOTAL</th>\n",
       "      <th>DEPENDANTS</th>\n",
       "      <th>SOCSTATUS_WORK_FL</th>\n",
       "      <th>SOCSTATUS_PENS_FL</th>\n",
       "      <th>REG_ADDRESS_PROVINCE</th>\n",
       "      <th>...</th>\n",
       "      <th>AGREEMENT_RK</th>\n",
       "      <th>TARGET</th>\n",
       "      <th>WORK_TIME</th>\n",
       "      <th>CREDIT</th>\n",
       "      <th>TERM</th>\n",
       "      <th>FST_PAYMENT</th>\n",
       "      <th>LOAN_NUM_TOTAL</th>\n",
       "      <th>LOAN_NUM_CLOSED</th>\n",
       "      <th>FAMILY_INCOME</th>\n",
       "      <th>PERSONAL_INCOME</th>\n",
       "    </tr>\n",
       "  </thead>\n",
       "  <tbody>\n",
       "    <tr>\n",
       "      <th>0</th>\n",
       "      <td>106805103</td>\n",
       "      <td>42</td>\n",
       "      <td>1</td>\n",
       "      <td>Среднее</td>\n",
       "      <td>Не состоял в браке</td>\n",
       "      <td>1</td>\n",
       "      <td>0</td>\n",
       "      <td>1</td>\n",
       "      <td>0</td>\n",
       "      <td>Московская область</td>\n",
       "      <td>...</td>\n",
       "      <td>60099204</td>\n",
       "      <td>1</td>\n",
       "      <td>3</td>\n",
       "      <td>5588</td>\n",
       "      <td>6</td>\n",
       "      <td>1000</td>\n",
       "      <td>1</td>\n",
       "      <td>0</td>\n",
       "      <td>от 20000 до 50000 руб.</td>\n",
       "      <td>25000</td>\n",
       "    </tr>\n",
       "    <tr>\n",
       "      <th>1</th>\n",
       "      <td>106809308</td>\n",
       "      <td>28</td>\n",
       "      <td>1</td>\n",
       "      <td>Среднее специальное</td>\n",
       "      <td>Состою в браке</td>\n",
       "      <td>1</td>\n",
       "      <td>1</td>\n",
       "      <td>1</td>\n",
       "      <td>0</td>\n",
       "      <td>Читинская область</td>\n",
       "      <td>...</td>\n",
       "      <td>62244665</td>\n",
       "      <td>0</td>\n",
       "      <td>5</td>\n",
       "      <td>19498</td>\n",
       "      <td>12</td>\n",
       "      <td>0</td>\n",
       "      <td>1</td>\n",
       "      <td>0</td>\n",
       "      <td>от 10000 до 20000 руб.</td>\n",
       "      <td>10000</td>\n",
       "    </tr>\n",
       "    <tr>\n",
       "      <th>2</th>\n",
       "      <td>106805867</td>\n",
       "      <td>64</td>\n",
       "      <td>0</td>\n",
       "      <td>Среднее специальное</td>\n",
       "      <td>Состою в браке</td>\n",
       "      <td>2</td>\n",
       "      <td>0</td>\n",
       "      <td>1</td>\n",
       "      <td>1</td>\n",
       "      <td>Иркутская область</td>\n",
       "      <td>...</td>\n",
       "      <td>61050759</td>\n",
       "      <td>0</td>\n",
       "      <td>360</td>\n",
       "      <td>15470</td>\n",
       "      <td>3</td>\n",
       "      <td>15000</td>\n",
       "      <td>1</td>\n",
       "      <td>1</td>\n",
       "      <td>от 20000 до 50000 руб.</td>\n",
       "      <td>30000</td>\n",
       "    </tr>\n",
       "    <tr>\n",
       "      <th>3</th>\n",
       "      <td>106808779</td>\n",
       "      <td>54</td>\n",
       "      <td>1</td>\n",
       "      <td>Среднее специальное</td>\n",
       "      <td>Состою в браке</td>\n",
       "      <td>0</td>\n",
       "      <td>0</td>\n",
       "      <td>1</td>\n",
       "      <td>0</td>\n",
       "      <td>Новосибирская область</td>\n",
       "      <td>...</td>\n",
       "      <td>62079659</td>\n",
       "      <td>0</td>\n",
       "      <td>3</td>\n",
       "      <td>13960</td>\n",
       "      <td>6</td>\n",
       "      <td>2500</td>\n",
       "      <td>1</td>\n",
       "      <td>0</td>\n",
       "      <td>от 20000 до 50000 руб.</td>\n",
       "      <td>25000</td>\n",
       "    </tr>\n",
       "    <tr>\n",
       "      <th>4</th>\n",
       "      <td>106814289</td>\n",
       "      <td>26</td>\n",
       "      <td>0</td>\n",
       "      <td>Среднее специальное</td>\n",
       "      <td>Состою в браке</td>\n",
       "      <td>1</td>\n",
       "      <td>1</td>\n",
       "      <td>1</td>\n",
       "      <td>0</td>\n",
       "      <td>Красноярский край</td>\n",
       "      <td>...</td>\n",
       "      <td>66583553</td>\n",
       "      <td>0</td>\n",
       "      <td>12</td>\n",
       "      <td>11890</td>\n",
       "      <td>6</td>\n",
       "      <td>8000</td>\n",
       "      <td>2</td>\n",
       "      <td>2</td>\n",
       "      <td>от 10000 до 20000 руб.</td>\n",
       "      <td>15000</td>\n",
       "    </tr>\n",
       "    <tr>\n",
       "      <th>...</th>\n",
       "      <td>...</td>\n",
       "      <td>...</td>\n",
       "      <td>...</td>\n",
       "      <td>...</td>\n",
       "      <td>...</td>\n",
       "      <td>...</td>\n",
       "      <td>...</td>\n",
       "      <td>...</td>\n",
       "      <td>...</td>\n",
       "      <td>...</td>\n",
       "      <td>...</td>\n",
       "      <td>...</td>\n",
       "      <td>...</td>\n",
       "      <td>...</td>\n",
       "      <td>...</td>\n",
       "      <td>...</td>\n",
       "      <td>...</td>\n",
       "      <td>...</td>\n",
       "      <td>...</td>\n",
       "      <td>...</td>\n",
       "      <td>...</td>\n",
       "    </tr>\n",
       "    <tr>\n",
       "      <th>22306</th>\n",
       "      <td>106814680</td>\n",
       "      <td>26</td>\n",
       "      <td>1</td>\n",
       "      <td>Среднее</td>\n",
       "      <td>Не состоял в браке</td>\n",
       "      <td>1</td>\n",
       "      <td>1</td>\n",
       "      <td>1</td>\n",
       "      <td>0</td>\n",
       "      <td>Чувашия</td>\n",
       "      <td>...</td>\n",
       "      <td>66751099</td>\n",
       "      <td>0</td>\n",
       "      <td>36</td>\n",
       "      <td>11750</td>\n",
       "      <td>4</td>\n",
       "      <td>1900</td>\n",
       "      <td>2</td>\n",
       "      <td>2</td>\n",
       "      <td>от 5000 до 10000 руб.</td>\n",
       "      <td>8000</td>\n",
       "    </tr>\n",
       "    <tr>\n",
       "      <th>22308</th>\n",
       "      <td>106812464</td>\n",
       "      <td>26</td>\n",
       "      <td>0</td>\n",
       "      <td>Среднее специальное</td>\n",
       "      <td>Состою в браке</td>\n",
       "      <td>0</td>\n",
       "      <td>0</td>\n",
       "      <td>1</td>\n",
       "      <td>0</td>\n",
       "      <td>Карелия</td>\n",
       "      <td>...</td>\n",
       "      <td>64562377</td>\n",
       "      <td>0</td>\n",
       "      <td>24</td>\n",
       "      <td>12350</td>\n",
       "      <td>6</td>\n",
       "      <td>1380</td>\n",
       "      <td>1</td>\n",
       "      <td>0</td>\n",
       "      <td>от 20000 до 50000 руб.</td>\n",
       "      <td>12000</td>\n",
       "    </tr>\n",
       "    <tr>\n",
       "      <th>22309</th>\n",
       "      <td>106809255</td>\n",
       "      <td>30</td>\n",
       "      <td>1</td>\n",
       "      <td>Среднее специальное</td>\n",
       "      <td>Не состоял в браке</td>\n",
       "      <td>0</td>\n",
       "      <td>0</td>\n",
       "      <td>1</td>\n",
       "      <td>0</td>\n",
       "      <td>Белгородская область</td>\n",
       "      <td>...</td>\n",
       "      <td>62236542</td>\n",
       "      <td>0</td>\n",
       "      <td>36</td>\n",
       "      <td>4915</td>\n",
       "      <td>10</td>\n",
       "      <td>2000</td>\n",
       "      <td>1</td>\n",
       "      <td>0</td>\n",
       "      <td>от 5000 до 10000 руб.</td>\n",
       "      <td>9000</td>\n",
       "    </tr>\n",
       "    <tr>\n",
       "      <th>22310</th>\n",
       "      <td>106814593</td>\n",
       "      <td>25</td>\n",
       "      <td>0</td>\n",
       "      <td>Среднее специальное</td>\n",
       "      <td>Состою в браке</td>\n",
       "      <td>0</td>\n",
       "      <td>0</td>\n",
       "      <td>1</td>\n",
       "      <td>0</td>\n",
       "      <td>Кабардино-Балкария</td>\n",
       "      <td>...</td>\n",
       "      <td>66739926</td>\n",
       "      <td>0</td>\n",
       "      <td>36</td>\n",
       "      <td>5860</td>\n",
       "      <td>3</td>\n",
       "      <td>2000</td>\n",
       "      <td>1</td>\n",
       "      <td>1</td>\n",
       "      <td>от 10000 до 20000 руб.</td>\n",
       "      <td>12000</td>\n",
       "    </tr>\n",
       "    <tr>\n",
       "      <th>22311</th>\n",
       "      <td>106813640</td>\n",
       "      <td>26</td>\n",
       "      <td>1</td>\n",
       "      <td>Высшее</td>\n",
       "      <td>Не состоял в браке</td>\n",
       "      <td>0</td>\n",
       "      <td>0</td>\n",
       "      <td>1</td>\n",
       "      <td>0</td>\n",
       "      <td>Татарстан</td>\n",
       "      <td>...</td>\n",
       "      <td>66077514</td>\n",
       "      <td>0</td>\n",
       "      <td>12</td>\n",
       "      <td>15700</td>\n",
       "      <td>6</td>\n",
       "      <td>3000</td>\n",
       "      <td>1</td>\n",
       "      <td>1</td>\n",
       "      <td>от 10000 до 20000 руб.</td>\n",
       "      <td>10500</td>\n",
       "    </tr>\n",
       "  </tbody>\n",
       "</table>\n",
       "<p>15221 rows × 24 columns</p>\n",
       "</div>"
      ],
      "text/plain": [
       "       ID_CLIENT  AGE  GENDER            EDUCATION      MARITAL_STATUS  \\\n",
       "0      106805103   42       1              Среднее  Не состоял в браке   \n",
       "1      106809308   28       1  Среднее специальное      Состою в браке   \n",
       "2      106805867   64       0  Среднее специальное      Состою в браке   \n",
       "3      106808779   54       1  Среднее специальное      Состою в браке   \n",
       "4      106814289   26       0  Среднее специальное      Состою в браке   \n",
       "...          ...  ...     ...                  ...                 ...   \n",
       "22306  106814680   26       1              Среднее  Не состоял в браке   \n",
       "22308  106812464   26       0  Среднее специальное      Состою в браке   \n",
       "22309  106809255   30       1  Среднее специальное  Не состоял в браке   \n",
       "22310  106814593   25       0  Среднее специальное      Состою в браке   \n",
       "22311  106813640   26       1               Высшее  Не состоял в браке   \n",
       "\n",
       "       CHILD_TOTAL  DEPENDANTS  SOCSTATUS_WORK_FL  SOCSTATUS_PENS_FL  \\\n",
       "0                1           0                  1                  0   \n",
       "1                1           1                  1                  0   \n",
       "2                2           0                  1                  1   \n",
       "3                0           0                  1                  0   \n",
       "4                1           1                  1                  0   \n",
       "...            ...         ...                ...                ...   \n",
       "22306            1           1                  1                  0   \n",
       "22308            0           0                  1                  0   \n",
       "22309            0           0                  1                  0   \n",
       "22310            0           0                  1                  0   \n",
       "22311            0           0                  1                  0   \n",
       "\n",
       "        REG_ADDRESS_PROVINCE  ... AGREEMENT_RK TARGET  WORK_TIME  CREDIT  \\\n",
       "0         Московская область  ...     60099204      1          3    5588   \n",
       "1          Читинская область  ...     62244665      0          5   19498   \n",
       "2          Иркутская область  ...     61050759      0        360   15470   \n",
       "3      Новосибирская область  ...     62079659      0          3   13960   \n",
       "4          Красноярский край  ...     66583553      0         12   11890   \n",
       "...                      ...  ...          ...    ...        ...     ...   \n",
       "22306                Чувашия  ...     66751099      0         36   11750   \n",
       "22308                Карелия  ...     64562377      0         24   12350   \n",
       "22309   Белгородская область  ...     62236542      0         36    4915   \n",
       "22310     Кабардино-Балкария  ...     66739926      0         36    5860   \n",
       "22311              Татарстан  ...     66077514      0         12   15700   \n",
       "\n",
       "       TERM  FST_PAYMENT  LOAN_NUM_TOTAL  LOAN_NUM_CLOSED  \\\n",
       "0         6         1000               1                0   \n",
       "1        12            0               1                0   \n",
       "2         3        15000               1                1   \n",
       "3         6         2500               1                0   \n",
       "4         6         8000               2                2   \n",
       "...     ...          ...             ...              ...   \n",
       "22306     4         1900               2                2   \n",
       "22308     6         1380               1                0   \n",
       "22309    10         2000               1                0   \n",
       "22310     3         2000               1                1   \n",
       "22311     6         3000               1                1   \n",
       "\n",
       "                FAMILY_INCOME  PERSONAL_INCOME  \n",
       "0      от 20000 до 50000 руб.            25000  \n",
       "1      от 10000 до 20000 руб.            10000  \n",
       "2      от 20000 до 50000 руб.            30000  \n",
       "3      от 20000 до 50000 руб.            25000  \n",
       "4      от 10000 до 20000 руб.            15000  \n",
       "...                       ...              ...  \n",
       "22306   от 5000 до 10000 руб.             8000  \n",
       "22308  от 20000 до 50000 руб.            12000  \n",
       "22309   от 5000 до 10000 руб.             9000  \n",
       "22310  от 10000 до 20000 руб.            12000  \n",
       "22311  от 10000 до 20000 руб.            10500  \n",
       "\n",
       "[15221 rows x 24 columns]"
      ]
     },
     "execution_count": 80,
     "metadata": {},
     "output_type": "execute_result"
    }
   ],
   "source": [
    "df"
   ]
  },
  {
   "cell_type": "markdown",
   "metadata": {},
   "source": [
    "Сохраняем наш датафрейм в итоговый файл CSV"
   ]
  },
  {
   "cell_type": "code",
   "execution_count": 81,
   "metadata": {},
   "outputs": [],
   "source": [
    "df.to_csv('full_table.csv')"
   ]
  }
 ],
 "metadata": {
  "kernelspec": {
   "display_name": "Python 3 (ipykernel)",
   "language": "python",
   "name": "python3"
  },
  "language_info": {
   "codemirror_mode": {
    "name": "ipython",
    "version": 3
   },
   "file_extension": ".py",
   "mimetype": "text/x-python",
   "name": "python",
   "nbconvert_exporter": "python",
   "pygments_lexer": "ipython3",
   "version": "3.12.0"
  }
 },
 "nbformat": 4,
 "nbformat_minor": 2
}
